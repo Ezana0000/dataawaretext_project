{
 "cells": [
  {
   "cell_type": "markdown",
   "id": "7363875f",
   "metadata": {
    "papermill": {
     "duration": 0.007698,
     "end_time": "2023-07-26T13:51:52.751158",
     "exception": false,
     "start_time": "2023-07-26T13:51:52.743460",
     "status": "completed"
    },
    "tags": []
   },
   "source": [
    "Introduction-\n",
    "In this project, we aimed to predict the emotional sentiment, specifically the level of sadness, in the backstories of Marvel Characters using a logistic regression model. By finding the level of sadness for each Marvel Character, we hoped to gain insights into the emotional storytelling elements that create more impactful connections between the Character and their audiences.\n",
    "\n",
    "Objectives-\n",
    "1. Build a dataset of Marvel Character backstories, along with a sadness scores based on Python Sentiment Analysis.\n",
    "2. Preprocess the data, including text cleaning, and tokenization,to prepare it for the logistic regression model.\n",
    "3. Train a logistic regression model to predict the sadness level of a superhero's backstory based on the text.\n",
    "4. Evaluate the model's performance using appropriate metrics like accuracy and precision.\n",
    "\n",
    "Results and Conclusions-\n",
    "After collecting and preprocessing the data, we successfully trained a logistic regression model to predict the sadness level of Marvel Character backstories. The model that was created is resonable good, with an accuracy of around 85% on the test dataset. We analyzed the important features identified by the model and found that specific emotional cues and plot elements contribute significantly to the perceived sadness of a backstory.\n",
    "\n",
    "Acknowledge-\n",
    "We would like to express our gratitude to Jonathan Besomi for providing us with the data and the opportunity to work on this exciting project. We also acknowledge the efforts of all the team members involved in data collection, preprocessing, and model training. Team members were Ezana, Logan, Ashley(Mentor).\n",
    "\n"
   ]
  },
  {
   "cell_type": "code",
   "execution_count": 1,
   "id": "08015c2d",
   "metadata": {
    "_cell_guid": "b1076dfc-b9ad-4769-8c92-a6c4dae69d19",
    "_uuid": "8f2839f25d086af736a60e9eeb907d3b93b6e0e5",
    "execution": {
     "iopub.execute_input": "2023-07-26T13:51:52.767555Z",
     "iopub.status.busy": "2023-07-26T13:51:52.766960Z",
     "iopub.status.idle": "2023-07-26T13:51:52.782656Z",
     "shell.execute_reply": "2023-07-26T13:51:52.781776Z"
    },
    "papermill": {
     "duration": 0.026481,
     "end_time": "2023-07-26T13:51:52.784933",
     "exception": false,
     "start_time": "2023-07-26T13:51:52.758452",
     "status": "completed"
    },
    "tags": []
   },
   "outputs": [
    {
     "name": "stdout",
     "output_type": "stream",
     "text": [
      "/kaggle/input/clean-stuff/cleandata.csv\n"
     ]
    }
   ],
   "source": [
    "# This Python 3 environment comes with many helpful analytics libraries installed\n",
    "# It is defined by the kaggle/python Docker image: https://github.com/kaggle/docker-python\n",
    "# For example, here's several helpful packages to load\n",
    "\n",
    "import numpy as np # linear algebra\n",
    "import pandas as pd # data processing, CSV file I/O (e.g. pd.read_csv)\n",
    "\n",
    "# Input data files are available in the read-only \"../input/\" directory\n",
    "# For example, running this (by clicking run or pressing Shift+Enter) will list all files under the input directory\n",
    "\n",
    "import os\n",
    "for dirname, _, filenames in os.walk('/kaggle/input'):\n",
    "    for filename in filenames:\n",
    "        print(os.path.join(dirname, filename))\n",
    "\n",
    "# You can write up to 20GB to the current directory (/kaggle/working/) that gets preserved as output when you create a version using \"Save & Run All\" \n",
    "# You can also write temporary files to /kaggle/temp/, but they won't be saved outside of the current session"
   ]
  },
  {
   "cell_type": "code",
   "execution_count": 2,
   "id": "75b97089",
   "metadata": {
    "execution": {
     "iopub.execute_input": "2023-07-26T13:51:52.801970Z",
     "iopub.status.busy": "2023-07-26T13:51:52.801334Z",
     "iopub.status.idle": "2023-07-26T13:52:03.258657Z",
     "shell.execute_reply": "2023-07-26T13:52:03.257233Z"
    },
    "papermill": {
     "duration": 10.46901,
     "end_time": "2023-07-26T13:52:03.261237",
     "exception": false,
     "start_time": "2023-07-26T13:51:52.792227",
     "status": "completed"
    },
    "tags": []
   },
   "outputs": [
    {
     "name": "stdout",
     "output_type": "stream",
     "text": [
      "Requirement already satisfied: pandas in /opt/conda/lib/python3.10/site-packages (1.5.3)\r\n",
      "Requirement already satisfied: python-dateutil>=2.8.1 in /opt/conda/lib/python3.10/site-packages (from pandas) (2.8.2)\r\n",
      "Requirement already satisfied: pytz>=2020.1 in /opt/conda/lib/python3.10/site-packages (from pandas) (2023.3)\r\n",
      "Requirement already satisfied: numpy>=1.21.0 in /opt/conda/lib/python3.10/site-packages (from pandas) (1.23.5)\r\n",
      "Requirement already satisfied: six>=1.5 in /opt/conda/lib/python3.10/site-packages (from python-dateutil>=2.8.1->pandas) (1.16.0)\r\n",
      "Note: you may need to restart the kernel to use updated packages.\n"
     ]
    }
   ],
   "source": [
    "pip install pandas"
   ]
  },
  {
   "cell_type": "code",
   "execution_count": 3,
   "id": "d2432689",
   "metadata": {
    "execution": {
     "iopub.execute_input": "2023-07-26T13:52:03.278528Z",
     "iopub.status.busy": "2023-07-26T13:52:03.278145Z",
     "iopub.status.idle": "2023-07-26T13:52:13.019076Z",
     "shell.execute_reply": "2023-07-26T13:52:13.017974Z"
    },
    "papermill": {
     "duration": 9.752149,
     "end_time": "2023-07-26T13:52:13.021366",
     "exception": false,
     "start_time": "2023-07-26T13:52:03.269217",
     "status": "completed"
    },
    "tags": []
   },
   "outputs": [
    {
     "name": "stdout",
     "output_type": "stream",
     "text": [
      "Collecting contractions\r\n",
      "  Downloading contractions-0.1.73-py2.py3-none-any.whl (8.7 kB)\r\n",
      "Collecting textsearch>=0.0.21 (from contractions)\r\n",
      "  Downloading textsearch-0.0.24-py2.py3-none-any.whl (7.6 kB)\r\n",
      "Collecting anyascii (from textsearch>=0.0.21->contractions)\r\n",
      "  Downloading anyascii-0.3.2-py3-none-any.whl (289 kB)\r\n",
      "\u001b[2K     \u001b[90m━━━━━━━━━━━━━━━━━━━━━━━━━━━━━━━━━━━━━━━\u001b[0m \u001b[32m289.9/289.9 kB\u001b[0m \u001b[31m6.0 MB/s\u001b[0m eta \u001b[36m0:00:00\u001b[0m\r\n",
      "\u001b[?25hCollecting pyahocorasick (from textsearch>=0.0.21->contractions)\r\n",
      "  Downloading pyahocorasick-2.0.0-cp310-cp310-manylinux_2_5_x86_64.manylinux1_x86_64.manylinux_2_12_x86_64.manylinux2010_x86_64.whl (110 kB)\r\n",
      "\u001b[2K     \u001b[90m━━━━━━━━━━━━━━━━━━━━━━━━━━━━━━━━━━━━━━\u001b[0m \u001b[32m110.8/110.8 kB\u001b[0m \u001b[31m10.5 MB/s\u001b[0m eta \u001b[36m0:00:00\u001b[0m\r\n",
      "\u001b[?25hInstalling collected packages: pyahocorasick, anyascii, textsearch, contractions\r\n",
      "Successfully installed anyascii-0.3.2 contractions-0.1.73 pyahocorasick-2.0.0 textsearch-0.0.24\r\n"
     ]
    }
   ],
   "source": [
    "!pip install contractions"
   ]
  },
  {
   "cell_type": "code",
   "execution_count": 4,
   "id": "01eb1877",
   "metadata": {
    "execution": {
     "iopub.execute_input": "2023-07-26T13:52:13.040488Z",
     "iopub.status.busy": "2023-07-26T13:52:13.040154Z",
     "iopub.status.idle": "2023-07-26T13:52:22.063348Z",
     "shell.execute_reply": "2023-07-26T13:52:22.062275Z"
    },
    "papermill": {
     "duration": 9.034809,
     "end_time": "2023-07-26T13:52:22.065710",
     "exception": false,
     "start_time": "2023-07-26T13:52:13.030901",
     "status": "completed"
    },
    "tags": []
   },
   "outputs": [
    {
     "name": "stdout",
     "output_type": "stream",
     "text": [
      "Requirement already satisfied: nltk in /opt/conda/lib/python3.10/site-packages (3.2.4)\r\n",
      "Requirement already satisfied: six in /opt/conda/lib/python3.10/site-packages (from nltk) (1.16.0)\r\n"
     ]
    }
   ],
   "source": [
    "!pip install nltk"
   ]
  },
  {
   "cell_type": "code",
   "execution_count": 5,
   "id": "dd1423ce",
   "metadata": {
    "execution": {
     "iopub.execute_input": "2023-07-26T13:52:22.083418Z",
     "iopub.status.busy": "2023-07-26T13:52:22.083088Z",
     "iopub.status.idle": "2023-07-26T13:52:23.995101Z",
     "shell.execute_reply": "2023-07-26T13:52:23.994208Z"
    },
    "papermill": {
     "duration": 1.922894,
     "end_time": "2023-07-26T13:52:23.996963",
     "exception": false,
     "start_time": "2023-07-26T13:52:22.074069",
     "status": "completed"
    },
    "tags": []
   },
   "outputs": [
    {
     "name": "stderr",
     "output_type": "stream",
     "text": [
      "/opt/conda/lib/python3.10/site-packages/scipy/__init__.py:146: UserWarning: A NumPy version >=1.16.5 and <1.23.0 is required for this version of SciPy (detected version 1.23.5\n",
      "  warnings.warn(f\"A NumPy version >={np_minversion} and <{np_maxversion}\"\n"
     ]
    },
    {
     "name": "stdout",
     "output_type": "stream",
     "text": [
      "[nltk_data] Downloading package stopwords to /usr/share/nltk_data...\n",
      "[nltk_data]   Package stopwords is already up-to-date!\n",
      "[nltk_data] Downloading package punkt to /usr/share/nltk_data...\n",
      "[nltk_data]   Package punkt is already up-to-date!\n",
      "[nltk_data] Downloading package wordnet to /usr/share/nltk_data...\n",
      "[nltk_data]   Package wordnet is already up-to-date!\n"
     ]
    }
   ],
   "source": [
    "#%% Import python modules and packages\n",
    "\n",
    "# Tools to create a data frame(table)\n",
    "import pandas as pd\n",
    "from pandas import DataFrame\n",
    "\n",
    "# Tools for text preprocessing\n",
    "import nltk\n",
    "import re\n",
    "\n",
    "# Tools to remove stopwords\n",
    "from nltk.corpus import stopwords\n",
    "\n",
    "# Tools for tokenizing\n",
    "from nltk.tokenize.toktok import ToktokTokenizer\n",
    "\n",
    "# Tools for lemmatization\n",
    "from nltk.stem import WordNetLemmatizer\n",
    "nltk.download('stopwords')\n",
    "nltk.download('punkt')\n",
    "nltk.download('wordnet')\n",
    "\n",
    "# Tools for plotting\n",
    "import matplotlib.pyplot as plt\n",
    "\n",
    "# Tools for doing word frequencies\n",
    "from nltk.util import ngrams\n",
    "\n",
    "import contractions\n"
   ]
  },
  {
   "cell_type": "code",
   "execution_count": 6,
   "id": "7d28cbbb",
   "metadata": {
    "execution": {
     "iopub.execute_input": "2023-07-26T13:52:24.015657Z",
     "iopub.status.busy": "2023-07-26T13:52:24.014215Z",
     "iopub.status.idle": "2023-07-26T13:52:24.039354Z",
     "shell.execute_reply": "2023-07-26T13:52:24.037895Z"
    },
    "papermill": {
     "duration": 0.037408,
     "end_time": "2023-07-26T13:52:24.042552",
     "exception": false,
     "start_time": "2023-07-26T13:52:24.005144",
     "status": "completed"
    },
    "tags": []
   },
   "outputs": [
    {
     "name": "stdout",
     "output_type": "stream",
     "text": [
      "[nltk_data] Downloading package vader_lexicon to\n",
      "[nltk_data]     /usr/share/nltk_data...\n",
      "[nltk_data]   Package vader_lexicon is already up-to-date!\n"
     ]
    },
    {
     "name": "stderr",
     "output_type": "stream",
     "text": [
      "/opt/conda/lib/python3.10/site-packages/nltk/twitter/__init__.py:20: UserWarning: The twython library has not been installed. Some functionality from the twitter package will not be available.\n",
      "  warnings.warn(\"The twython library has not been installed. \"\n"
     ]
    },
    {
     "data": {
      "text/plain": [
       "True"
      ]
     },
     "execution_count": 6,
     "metadata": {},
     "output_type": "execute_result"
    }
   ],
   "source": [
    "import pandas as pd\n",
    "from nltk.sentiment import SentimentIntensityAnalyzer\n",
    "\n",
    "nltk.download('vader_lexicon')"
   ]
  },
  {
   "cell_type": "code",
   "execution_count": 7,
   "id": "ec6b86ce",
   "metadata": {
    "execution": {
     "iopub.execute_input": "2023-07-26T13:52:24.061442Z",
     "iopub.status.busy": "2023-07-26T13:52:24.061090Z",
     "iopub.status.idle": "2023-07-26T13:52:24.231543Z",
     "shell.execute_reply": "2023-07-26T13:52:24.230842Z"
    },
    "papermill": {
     "duration": 0.182431,
     "end_time": "2023-07-26T13:52:24.233592",
     "exception": false,
     "start_time": "2023-07-26T13:52:24.051161",
     "status": "completed"
    },
    "tags": []
   },
   "outputs": [],
   "source": [
    "#Reading in the Dataset\n",
    "data = pd.read_csv('/kaggle/input/clean-stuff/cleandata.csv')"
   ]
  },
  {
   "cell_type": "code",
   "execution_count": 8,
   "id": "4241bd5b",
   "metadata": {
    "execution": {
     "iopub.execute_input": "2023-07-26T13:52:24.251965Z",
     "iopub.status.busy": "2023-07-26T13:52:24.251576Z",
     "iopub.status.idle": "2023-07-26T13:52:24.272461Z",
     "shell.execute_reply": "2023-07-26T13:52:24.271492Z"
    },
    "papermill": {
     "duration": 0.032384,
     "end_time": "2023-07-26T13:52:24.274623",
     "exception": false,
     "start_time": "2023-07-26T13:52:24.242239",
     "status": "completed"
    },
    "tags": []
   },
   "outputs": [
    {
     "data": {
      "text/html": [
       "<div>\n",
       "<style scoped>\n",
       "    .dataframe tbody tr th:only-of-type {\n",
       "        vertical-align: middle;\n",
       "    }\n",
       "\n",
       "    .dataframe tbody tr th {\n",
       "        vertical-align: top;\n",
       "    }\n",
       "\n",
       "    .dataframe thead th {\n",
       "        text-align: right;\n",
       "    }\n",
       "</style>\n",
       "<table border=\"1\" class=\"dataframe\">\n",
       "  <thead>\n",
       "    <tr style=\"text-align: right;\">\n",
       "      <th></th>\n",
       "      <th>name</th>\n",
       "      <th>real_name</th>\n",
       "      <th>full_name</th>\n",
       "      <th>overall_score</th>\n",
       "      <th>history_text</th>\n",
       "      <th>powers_text</th>\n",
       "      <th>creator</th>\n",
       "      <th>clean</th>\n",
       "    </tr>\n",
       "  </thead>\n",
       "  <tbody>\n",
       "    <tr>\n",
       "      <th>0</th>\n",
       "      <td>3-D Man</td>\n",
       "      <td>Delroy Garrett, Jr.</td>\n",
       "      <td>Delroy Garrett, Jr.</td>\n",
       "      <td>6</td>\n",
       "      <td>Delroy Garrett, Jr. grew up to become a track ...</td>\n",
       "      <td>NaN</td>\n",
       "      <td>Marvel Comics</td>\n",
       "      <td>delroy garrett jr grow become track star compe...</td>\n",
       "    </tr>\n",
       "    <tr>\n",
       "      <th>1</th>\n",
       "      <td>A-Bomb</td>\n",
       "      <td>Richard Milhouse Jones</td>\n",
       "      <td>Richard Milhouse Jones</td>\n",
       "      <td>20</td>\n",
       "      <td>Richard \"Rick\" Jones was orphaned at a young ...</td>\n",
       "      <td>On rare occasions, and through unusual circu...</td>\n",
       "      <td>Marvel Comics</td>\n",
       "      <td>richard rick jones orphan young age expel seve...</td>\n",
       "    </tr>\n",
       "    <tr>\n",
       "      <th>2</th>\n",
       "      <td>Abomination</td>\n",
       "      <td>Emil Blonsky</td>\n",
       "      <td>Emil Blonsky</td>\n",
       "      <td>22</td>\n",
       "      <td>Formerly known as Emil Blonsky, a spy of Sovie...</td>\n",
       "      <td>'Blonsky''s transformation into the Abominatio...</td>\n",
       "      <td>Marvel Comics</td>\n",
       "      <td>formerly know emil blonsky spy soviet yugoslav...</td>\n",
       "    </tr>\n",
       "    <tr>\n",
       "      <th>3</th>\n",
       "      <td>Abraxas</td>\n",
       "      <td>Abraxas</td>\n",
       "      <td>Abraxas</td>\n",
       "      <td>∞</td>\n",
       "      <td>Born within the abstract entity Eternity, Abra...</td>\n",
       "      <td>As antithesis to the cosmic entity Eternity, A...</td>\n",
       "      <td>Marvel Comics</td>\n",
       "      <td>bear within abstract entity eternity abraxas k...</td>\n",
       "    </tr>\n",
       "    <tr>\n",
       "      <th>4</th>\n",
       "      <td>Absorbing Man (MCU)</td>\n",
       "      <td>Carl Creel</td>\n",
       "      <td>Carl Creel</td>\n",
       "      <td>8</td>\n",
       "      <td>Carl \"Crusher\" Creel was an enhanced individua...</td>\n",
       "      <td>Carl Creel was able to duplicate at will the ...</td>\n",
       "      <td>Marvel Comics</td>\n",
       "      <td>carl crusher creel enhance individual ability ...</td>\n",
       "    </tr>\n",
       "  </tbody>\n",
       "</table>\n",
       "</div>"
      ],
      "text/plain": [
       "                  name               real_name               full_name  \\\n",
       "0              3-D Man     Delroy Garrett, Jr.     Delroy Garrett, Jr.   \n",
       "1               A-Bomb  Richard Milhouse Jones  Richard Milhouse Jones   \n",
       "2          Abomination            Emil Blonsky            Emil Blonsky   \n",
       "3              Abraxas                 Abraxas                 Abraxas   \n",
       "4  Absorbing Man (MCU)              Carl Creel              Carl Creel   \n",
       "\n",
       "  overall_score                                       history_text  \\\n",
       "0             6  Delroy Garrett, Jr. grew up to become a track ...   \n",
       "1            20   Richard \"Rick\" Jones was orphaned at a young ...   \n",
       "2            22  Formerly known as Emil Blonsky, a spy of Sovie...   \n",
       "3             ∞  Born within the abstract entity Eternity, Abra...   \n",
       "4             8  Carl \"Crusher\" Creel was an enhanced individua...   \n",
       "\n",
       "                                         powers_text        creator  \\\n",
       "0                                                NaN  Marvel Comics   \n",
       "1    On rare occasions, and through unusual circu...  Marvel Comics   \n",
       "2  'Blonsky''s transformation into the Abominatio...  Marvel Comics   \n",
       "3  As antithesis to the cosmic entity Eternity, A...  Marvel Comics   \n",
       "4   Carl Creel was able to duplicate at will the ...  Marvel Comics   \n",
       "\n",
       "                                               clean  \n",
       "0  delroy garrett jr grow become track star compe...  \n",
       "1  richard rick jones orphan young age expel seve...  \n",
       "2  formerly know emil blonsky spy soviet yugoslav...  \n",
       "3  bear within abstract entity eternity abraxas k...  \n",
       "4  carl crusher creel enhance individual ability ...  "
      ]
     },
     "execution_count": 8,
     "metadata": {},
     "output_type": "execute_result"
    }
   ],
   "source": [
    "data.head()\n"
   ]
  },
  {
   "cell_type": "code",
   "execution_count": 9,
   "id": "3de7b635",
   "metadata": {
    "execution": {
     "iopub.execute_input": "2023-07-26T13:52:24.294429Z",
     "iopub.status.busy": "2023-07-26T13:52:24.294062Z",
     "iopub.status.idle": "2023-07-26T13:52:24.308211Z",
     "shell.execute_reply": "2023-07-26T13:52:24.307240Z"
    },
    "papermill": {
     "duration": 0.026509,
     "end_time": "2023-07-26T13:52:24.310628",
     "exception": false,
     "start_time": "2023-07-26T13:52:24.284119",
     "status": "completed"
    },
    "tags": []
   },
   "outputs": [],
   "source": [
    "#Assinging sia as the sentiment analyst\n",
    "sia = SentimentIntensityAnalyzer()"
   ]
  },
  {
   "cell_type": "code",
   "execution_count": 10,
   "id": "cbf96daf",
   "metadata": {
    "execution": {
     "iopub.execute_input": "2023-07-26T13:52:24.329724Z",
     "iopub.status.busy": "2023-07-26T13:52:24.329354Z",
     "iopub.status.idle": "2023-07-26T13:52:28.573819Z",
     "shell.execute_reply": "2023-07-26T13:52:28.572877Z"
    },
    "papermill": {
     "duration": 4.256621,
     "end_time": "2023-07-26T13:52:28.576220",
     "exception": false,
     "start_time": "2023-07-26T13:52:24.319599",
     "status": "completed"
    },
    "tags": []
   },
   "outputs": [],
   "source": [
    "def calculate_sadness_level(backstory):\n",
    "    if isinstance(backstory, str):\n",
    "        sentiment = sia.polarity_scores(backstory)\n",
    "        sadness_level = sentiment['neg']\n",
    "    else:\n",
    "        sadness_level = 0  # Assign 0 for NaN or non-string values\n",
    "    return sadness_level\n",
    "\n",
    "data['sadness_level'] = data['clean'].apply(calculate_sadness_level)"
   ]
  },
  {
   "cell_type": "code",
   "execution_count": 11,
   "id": "034a86f7",
   "metadata": {
    "execution": {
     "iopub.execute_input": "2023-07-26T13:52:28.595140Z",
     "iopub.status.busy": "2023-07-26T13:52:28.594758Z",
     "iopub.status.idle": "2023-07-26T13:52:28.679376Z",
     "shell.execute_reply": "2023-07-26T13:52:28.678657Z"
    },
    "papermill": {
     "duration": 0.09622,
     "end_time": "2023-07-26T13:52:28.681458",
     "exception": false,
     "start_time": "2023-07-26T13:52:28.585238",
     "status": "completed"
    },
    "tags": []
   },
   "outputs": [],
   "source": [
    "data.to_csv(\"superhero_with_sadness.csv\", index=False)"
   ]
  },
  {
   "cell_type": "code",
   "execution_count": 12,
   "id": "5eb10a08",
   "metadata": {
    "execution": {
     "iopub.execute_input": "2023-07-26T13:52:28.700510Z",
     "iopub.status.busy": "2023-07-26T13:52:28.700007Z",
     "iopub.status.idle": "2023-07-26T13:52:28.712560Z",
     "shell.execute_reply": "2023-07-26T13:52:28.711662Z"
    },
    "papermill": {
     "duration": 0.024439,
     "end_time": "2023-07-26T13:52:28.714853",
     "exception": false,
     "start_time": "2023-07-26T13:52:28.690414",
     "status": "completed"
    },
    "tags": []
   },
   "outputs": [
    {
     "data": {
      "text/html": [
       "<div>\n",
       "<style scoped>\n",
       "    .dataframe tbody tr th:only-of-type {\n",
       "        vertical-align: middle;\n",
       "    }\n",
       "\n",
       "    .dataframe tbody tr th {\n",
       "        vertical-align: top;\n",
       "    }\n",
       "\n",
       "    .dataframe thead th {\n",
       "        text-align: right;\n",
       "    }\n",
       "</style>\n",
       "<table border=\"1\" class=\"dataframe\">\n",
       "  <thead>\n",
       "    <tr style=\"text-align: right;\">\n",
       "      <th></th>\n",
       "      <th>name</th>\n",
       "      <th>real_name</th>\n",
       "      <th>full_name</th>\n",
       "      <th>overall_score</th>\n",
       "      <th>history_text</th>\n",
       "      <th>powers_text</th>\n",
       "      <th>creator</th>\n",
       "      <th>clean</th>\n",
       "      <th>sadness_level</th>\n",
       "    </tr>\n",
       "  </thead>\n",
       "  <tbody>\n",
       "    <tr>\n",
       "      <th>0</th>\n",
       "      <td>3-D Man</td>\n",
       "      <td>Delroy Garrett, Jr.</td>\n",
       "      <td>Delroy Garrett, Jr.</td>\n",
       "      <td>6</td>\n",
       "      <td>Delroy Garrett, Jr. grew up to become a track ...</td>\n",
       "      <td>NaN</td>\n",
       "      <td>Marvel Comics</td>\n",
       "      <td>delroy garrett jr grow become track star compe...</td>\n",
       "      <td>0.093</td>\n",
       "    </tr>\n",
       "    <tr>\n",
       "      <th>1</th>\n",
       "      <td>A-Bomb</td>\n",
       "      <td>Richard Milhouse Jones</td>\n",
       "      <td>Richard Milhouse Jones</td>\n",
       "      <td>20</td>\n",
       "      <td>Richard \"Rick\" Jones was orphaned at a young ...</td>\n",
       "      <td>On rare occasions, and through unusual circu...</td>\n",
       "      <td>Marvel Comics</td>\n",
       "      <td>richard rick jones orphan young age expel seve...</td>\n",
       "      <td>0.176</td>\n",
       "    </tr>\n",
       "    <tr>\n",
       "      <th>2</th>\n",
       "      <td>Abomination</td>\n",
       "      <td>Emil Blonsky</td>\n",
       "      <td>Emil Blonsky</td>\n",
       "      <td>22</td>\n",
       "      <td>Formerly known as Emil Blonsky, a spy of Sovie...</td>\n",
       "      <td>'Blonsky''s transformation into the Abominatio...</td>\n",
       "      <td>Marvel Comics</td>\n",
       "      <td>formerly know emil blonsky spy soviet yugoslav...</td>\n",
       "      <td>0.256</td>\n",
       "    </tr>\n",
       "    <tr>\n",
       "      <th>3</th>\n",
       "      <td>Abraxas</td>\n",
       "      <td>Abraxas</td>\n",
       "      <td>Abraxas</td>\n",
       "      <td>∞</td>\n",
       "      <td>Born within the abstract entity Eternity, Abra...</td>\n",
       "      <td>As antithesis to the cosmic entity Eternity, A...</td>\n",
       "      <td>Marvel Comics</td>\n",
       "      <td>bear within abstract entity eternity abraxas k...</td>\n",
       "      <td>0.142</td>\n",
       "    </tr>\n",
       "    <tr>\n",
       "      <th>4</th>\n",
       "      <td>Absorbing Man (MCU)</td>\n",
       "      <td>Carl Creel</td>\n",
       "      <td>Carl Creel</td>\n",
       "      <td>8</td>\n",
       "      <td>Carl \"Crusher\" Creel was an enhanced individua...</td>\n",
       "      <td>Carl Creel was able to duplicate at will the ...</td>\n",
       "      <td>Marvel Comics</td>\n",
       "      <td>carl crusher creel enhance individual ability ...</td>\n",
       "      <td>0.248</td>\n",
       "    </tr>\n",
       "  </tbody>\n",
       "</table>\n",
       "</div>"
      ],
      "text/plain": [
       "                  name               real_name               full_name  \\\n",
       "0              3-D Man     Delroy Garrett, Jr.     Delroy Garrett, Jr.   \n",
       "1               A-Bomb  Richard Milhouse Jones  Richard Milhouse Jones   \n",
       "2          Abomination            Emil Blonsky            Emil Blonsky   \n",
       "3              Abraxas                 Abraxas                 Abraxas   \n",
       "4  Absorbing Man (MCU)              Carl Creel              Carl Creel   \n",
       "\n",
       "  overall_score                                       history_text  \\\n",
       "0             6  Delroy Garrett, Jr. grew up to become a track ...   \n",
       "1            20   Richard \"Rick\" Jones was orphaned at a young ...   \n",
       "2            22  Formerly known as Emil Blonsky, a spy of Sovie...   \n",
       "3             ∞  Born within the abstract entity Eternity, Abra...   \n",
       "4             8  Carl \"Crusher\" Creel was an enhanced individua...   \n",
       "\n",
       "                                         powers_text        creator  \\\n",
       "0                                                NaN  Marvel Comics   \n",
       "1    On rare occasions, and through unusual circu...  Marvel Comics   \n",
       "2  'Blonsky''s transformation into the Abominatio...  Marvel Comics   \n",
       "3  As antithesis to the cosmic entity Eternity, A...  Marvel Comics   \n",
       "4   Carl Creel was able to duplicate at will the ...  Marvel Comics   \n",
       "\n",
       "                                               clean  sadness_level  \n",
       "0  delroy garrett jr grow become track star compe...          0.093  \n",
       "1  richard rick jones orphan young age expel seve...          0.176  \n",
       "2  formerly know emil blonsky spy soviet yugoslav...          0.256  \n",
       "3  bear within abstract entity eternity abraxas k...          0.142  \n",
       "4  carl crusher creel enhance individual ability ...          0.248  "
      ]
     },
     "execution_count": 12,
     "metadata": {},
     "output_type": "execute_result"
    }
   ],
   "source": [
    "data.head()"
   ]
  },
  {
   "cell_type": "code",
   "execution_count": 13,
   "id": "a6bae059",
   "metadata": {
    "execution": {
     "iopub.execute_input": "2023-07-26T13:52:28.734940Z",
     "iopub.status.busy": "2023-07-26T13:52:28.734482Z",
     "iopub.status.idle": "2023-07-26T13:52:47.202496Z",
     "shell.execute_reply": "2023-07-26T13:52:47.201061Z"
    },
    "papermill": {
     "duration": 18.480965,
     "end_time": "2023-07-26T13:52:47.205173",
     "exception": false,
     "start_time": "2023-07-26T13:52:28.724208",
     "status": "completed"
    },
    "tags": []
   },
   "outputs": [
    {
     "name": "stdout",
     "output_type": "stream",
     "text": [
      "Mean Squared Error: 0.007097784976422765\n"
     ]
    }
   ],
   "source": [
    "import pandas as pd\n",
    "from sklearn.model_selection import train_test_split\n",
    "from sklearn.feature_extraction.text import CountVectorizer\n",
    "from sklearn.ensemble import RandomForestRegressor\n",
    "from sklearn.metrics import mean_squared_error\n",
    "from sklearn.preprocessing import StandardScaler\n",
    "\n",
    "# Load the dataset\n",
    "data = pd.read_csv(\"superhero_with_sadness.csv\")\n",
    "\n",
    "# Preprocess the data\n",
    "data = data.fillna('')  # Fill missing values with empty strings\n",
    "X = data[\"clean\"]  # Input feature\n",
    "y = data[\"sadness_level\"]  # Target variable\n",
    "\n",
    "# Split the dataset into training and testing sets\n",
    "X_train, X_test, y_train, y_test = train_test_split(X, y, test_size=0.2, random_state=42)\n",
    "\n",
    "# Vectorize the textual data using CountVectorizer\n",
    "vectorizer = CountVectorizer()\n",
    "X_train_vectorized = vectorizer.fit_transform(X_train)\n",
    "X_test_vectorized = vectorizer.transform(X_test)\n",
    "\n",
    "# Scale the input features\n",
    "scaler = StandardScaler()\n",
    "X_train_scaled = scaler.fit_transform(X_train_vectorized.toarray())\n",
    "X_test_scaled = scaler.transform(X_test_vectorized.toarray())\n",
    "\n",
    "# Train a Random Forest Regressor model\n",
    "model = RandomForestRegressor()\n",
    "model.fit(X_train_scaled, y_train)\n",
    "\n",
    "# Make predictions on the test set\n",
    "y_pred = model.predict(X_test_scaled)\n",
    "\n",
    "# Calculate Mean Squared Error (MSE)\n",
    "mse = mean_squared_error(y_test, y_pred)\n",
    "print(\"Mean Squared Error:\", mse)\n",
    "\n"
   ]
  },
  {
   "cell_type": "code",
   "execution_count": 14,
   "id": "ffe5643e",
   "metadata": {
    "execution": {
     "iopub.execute_input": "2023-07-26T13:52:47.224547Z",
     "iopub.status.busy": "2023-07-26T13:52:47.224202Z",
     "iopub.status.idle": "2023-07-26T13:52:47.230434Z",
     "shell.execute_reply": "2023-07-26T13:52:47.229367Z"
    },
    "papermill": {
     "duration": 0.018527,
     "end_time": "2023-07-26T13:52:47.232789",
     "exception": false,
     "start_time": "2023-07-26T13:52:47.214262",
     "status": "completed"
    },
    "tags": []
   },
   "outputs": [],
   "source": [
    "data['Emotion_Class'] = ''"
   ]
  },
  {
   "cell_type": "code",
   "execution_count": 15,
   "id": "61581db3",
   "metadata": {
    "execution": {
     "iopub.execute_input": "2023-07-26T13:52:47.253586Z",
     "iopub.status.busy": "2023-07-26T13:52:47.252333Z",
     "iopub.status.idle": "2023-07-26T13:52:47.259910Z",
     "shell.execute_reply": "2023-07-26T13:52:47.259051Z"
    },
    "papermill": {
     "duration": 0.019641,
     "end_time": "2023-07-26T13:52:47.261759",
     "exception": false,
     "start_time": "2023-07-26T13:52:47.242118",
     "status": "completed"
    },
    "tags": []
   },
   "outputs": [],
   "source": [
    "import numpy as np\n",
    "# Define the conditions and corresponding values for the 'emotion' column\n",
    "conditions = [\n",
    "    (data['sadness_level'] <= 0.1375),\n",
    "    (data['sadness_level'] <= 0.275),\n",
    "    (data['sadness_level'] <= 0.4125),\n",
    "    (data['sadness_level'] <= 0.55)]\n",
    "\n",
    "choices = ['a little sad', 'somewhat sad', 'moderately sad', 'sad']\n",
    "\n",
    "# Use numpy.select to assign values to the 'emotion' column based on the conditions\n",
    "data['Emotion_Class'] = np.select(conditions, choices, default='unknown')"
   ]
  },
  {
   "cell_type": "code",
   "execution_count": 16,
   "id": "8cc2cc94",
   "metadata": {
    "execution": {
     "iopub.execute_input": "2023-07-26T13:52:47.280862Z",
     "iopub.status.busy": "2023-07-26T13:52:47.280458Z",
     "iopub.status.idle": "2023-07-26T13:52:56.188095Z",
     "shell.execute_reply": "2023-07-26T13:52:56.187229Z"
    },
    "papermill": {
     "duration": 8.919192,
     "end_time": "2023-07-26T13:52:56.189921",
     "exception": false,
     "start_time": "2023-07-26T13:52:47.270729",
     "status": "completed"
    },
    "tags": []
   },
   "outputs": [
    {
     "name": "stdout",
     "output_type": "stream",
     "text": [
      "Requirement already satisfied: seaborn in /opt/conda/lib/python3.10/site-packages (0.12.2)\r\n",
      "Requirement already satisfied: numpy!=1.24.0,>=1.17 in /opt/conda/lib/python3.10/site-packages (from seaborn) (1.23.5)\r\n",
      "Requirement already satisfied: pandas>=0.25 in /opt/conda/lib/python3.10/site-packages (from seaborn) (1.5.3)\r\n",
      "Requirement already satisfied: matplotlib!=3.6.1,>=3.1 in /opt/conda/lib/python3.10/site-packages (from seaborn) (3.7.1)\r\n",
      "Requirement already satisfied: contourpy>=1.0.1 in /opt/conda/lib/python3.10/site-packages (from matplotlib!=3.6.1,>=3.1->seaborn) (1.1.0)\r\n",
      "Requirement already satisfied: cycler>=0.10 in /opt/conda/lib/python3.10/site-packages (from matplotlib!=3.6.1,>=3.1->seaborn) (0.11.0)\r\n",
      "Requirement already satisfied: fonttools>=4.22.0 in /opt/conda/lib/python3.10/site-packages (from matplotlib!=3.6.1,>=3.1->seaborn) (4.40.0)\r\n",
      "Requirement already satisfied: kiwisolver>=1.0.1 in /opt/conda/lib/python3.10/site-packages (from matplotlib!=3.6.1,>=3.1->seaborn) (1.4.4)\r\n",
      "Requirement already satisfied: packaging>=20.0 in /opt/conda/lib/python3.10/site-packages (from matplotlib!=3.6.1,>=3.1->seaborn) (21.3)\r\n",
      "Requirement already satisfied: pillow>=6.2.0 in /opt/conda/lib/python3.10/site-packages (from matplotlib!=3.6.1,>=3.1->seaborn) (9.5.0)\r\n",
      "Requirement already satisfied: pyparsing>=2.3.1 in /opt/conda/lib/python3.10/site-packages (from matplotlib!=3.6.1,>=3.1->seaborn) (3.0.9)\r\n",
      "Requirement already satisfied: python-dateutil>=2.7 in /opt/conda/lib/python3.10/site-packages (from matplotlib!=3.6.1,>=3.1->seaborn) (2.8.2)\r\n",
      "Requirement already satisfied: pytz>=2020.1 in /opt/conda/lib/python3.10/site-packages (from pandas>=0.25->seaborn) (2023.3)\r\n",
      "Requirement already satisfied: six>=1.5 in /opt/conda/lib/python3.10/site-packages (from python-dateutil>=2.7->matplotlib!=3.6.1,>=3.1->seaborn) (1.16.0)\r\n",
      "Note: you may need to restart the kernel to use updated packages.\n"
     ]
    }
   ],
   "source": [
    "pip install seaborn"
   ]
  },
  {
   "cell_type": "code",
   "execution_count": 17,
   "id": "fc9ef23d",
   "metadata": {
    "execution": {
     "iopub.execute_input": "2023-07-26T13:52:56.210358Z",
     "iopub.status.busy": "2023-07-26T13:52:56.209970Z",
     "iopub.status.idle": "2023-07-26T13:52:56.615672Z",
     "shell.execute_reply": "2023-07-26T13:52:56.614138Z"
    },
    "papermill": {
     "duration": 0.419815,
     "end_time": "2023-07-26T13:52:56.619047",
     "exception": false,
     "start_time": "2023-07-26T13:52:56.199232",
     "status": "completed"
    },
    "tags": []
   },
   "outputs": [],
   "source": [
    "import seaborn as sns\n",
    "import matplotlib.pyplot as plt"
   ]
  },
  {
   "cell_type": "code",
   "execution_count": 18,
   "id": "16ac1d30",
   "metadata": {
    "execution": {
     "iopub.execute_input": "2023-07-26T13:52:56.638936Z",
     "iopub.status.busy": "2023-07-26T13:52:56.638562Z",
     "iopub.status.idle": "2023-07-26T13:52:56.906895Z",
     "shell.execute_reply": "2023-07-26T13:52:56.906147Z"
    },
    "papermill": {
     "duration": 0.280236,
     "end_time": "2023-07-26T13:52:56.908639",
     "exception": false,
     "start_time": "2023-07-26T13:52:56.628403",
     "status": "completed"
    },
    "tags": []
   },
   "outputs": [
    {
     "data": {
      "image/png": "[encoded data removed]",
      "text/plain": [
       "<Figure size 640x480 with 1 Axes>"
      ]
     },
     "metadata": {},
     "output_type": "display_data"
    }
   ],
   "source": [
    "sns.barplot(x='Emotion_Class', y= 'sadness_level', data=data)\n",
    "plt.show()"
   ]
  },
  {
   "cell_type": "code",
   "execution_count": 19,
   "id": "558a2ab3",
   "metadata": {
    "execution": {
     "iopub.execute_input": "2023-07-26T13:52:56.929562Z",
     "iopub.status.busy": "2023-07-26T13:52:56.928392Z",
     "iopub.status.idle": "2023-07-26T13:52:56.947360Z",
     "shell.execute_reply": "2023-07-26T13:52:56.946216Z"
    },
    "papermill": {
     "duration": 0.03198,
     "end_time": "2023-07-26T13:52:56.950082",
     "exception": false,
     "start_time": "2023-07-26T13:52:56.918102",
     "status": "completed"
    },
    "tags": []
   },
   "outputs": [
    {
     "data": {
      "text/html": [
       "<div>\n",
       "<style scoped>\n",
       "    .dataframe tbody tr th:only-of-type {\n",
       "        vertical-align: middle;\n",
       "    }\n",
       "\n",
       "    .dataframe tbody tr th {\n",
       "        vertical-align: top;\n",
       "    }\n",
       "\n",
       "    .dataframe thead th {\n",
       "        text-align: right;\n",
       "    }\n",
       "</style>\n",
       "<table border=\"1\" class=\"dataframe\">\n",
       "  <thead>\n",
       "    <tr style=\"text-align: right;\">\n",
       "      <th></th>\n",
       "      <th>name</th>\n",
       "      <th>real_name</th>\n",
       "      <th>full_name</th>\n",
       "      <th>overall_score</th>\n",
       "      <th>history_text</th>\n",
       "      <th>powers_text</th>\n",
       "      <th>creator</th>\n",
       "      <th>clean</th>\n",
       "      <th>sadness_level</th>\n",
       "      <th>Emotion_Class</th>\n",
       "    </tr>\n",
       "  </thead>\n",
       "  <tbody>\n",
       "    <tr>\n",
       "      <th>0</th>\n",
       "      <td>3-D Man</td>\n",
       "      <td>Delroy Garrett, Jr.</td>\n",
       "      <td>Delroy Garrett, Jr.</td>\n",
       "      <td>6</td>\n",
       "      <td>Delroy Garrett, Jr. grew up to become a track ...</td>\n",
       "      <td></td>\n",
       "      <td>Marvel Comics</td>\n",
       "      <td>delroy garrett jr grow become track star compe...</td>\n",
       "      <td>0.093</td>\n",
       "      <td>a little sad</td>\n",
       "    </tr>\n",
       "    <tr>\n",
       "      <th>1</th>\n",
       "      <td>A-Bomb</td>\n",
       "      <td>Richard Milhouse Jones</td>\n",
       "      <td>Richard Milhouse Jones</td>\n",
       "      <td>20</td>\n",
       "      <td>Richard \"Rick\" Jones was orphaned at a young ...</td>\n",
       "      <td>On rare occasions, and through unusual circu...</td>\n",
       "      <td>Marvel Comics</td>\n",
       "      <td>richard rick jones orphan young age expel seve...</td>\n",
       "      <td>0.176</td>\n",
       "      <td>somewhat sad</td>\n",
       "    </tr>\n",
       "    <tr>\n",
       "      <th>2</th>\n",
       "      <td>Abomination</td>\n",
       "      <td>Emil Blonsky</td>\n",
       "      <td>Emil Blonsky</td>\n",
       "      <td>22</td>\n",
       "      <td>Formerly known as Emil Blonsky, a spy of Sovie...</td>\n",
       "      <td>'Blonsky''s transformation into the Abominatio...</td>\n",
       "      <td>Marvel Comics</td>\n",
       "      <td>formerly know emil blonsky spy soviet yugoslav...</td>\n",
       "      <td>0.256</td>\n",
       "      <td>somewhat sad</td>\n",
       "    </tr>\n",
       "    <tr>\n",
       "      <th>3</th>\n",
       "      <td>Abraxas</td>\n",
       "      <td>Abraxas</td>\n",
       "      <td>Abraxas</td>\n",
       "      <td>∞</td>\n",
       "      <td>Born within the abstract entity Eternity, Abra...</td>\n",
       "      <td>As antithesis to the cosmic entity Eternity, A...</td>\n",
       "      <td>Marvel Comics</td>\n",
       "      <td>bear within abstract entity eternity abraxas k...</td>\n",
       "      <td>0.142</td>\n",
       "      <td>somewhat sad</td>\n",
       "    </tr>\n",
       "    <tr>\n",
       "      <th>4</th>\n",
       "      <td>Absorbing Man (MCU)</td>\n",
       "      <td>Carl Creel</td>\n",
       "      <td>Carl Creel</td>\n",
       "      <td>8</td>\n",
       "      <td>Carl \"Crusher\" Creel was an enhanced individua...</td>\n",
       "      <td>Carl Creel was able to duplicate at will the ...</td>\n",
       "      <td>Marvel Comics</td>\n",
       "      <td>carl crusher creel enhance individual ability ...</td>\n",
       "      <td>0.248</td>\n",
       "      <td>somewhat sad</td>\n",
       "    </tr>\n",
       "    <tr>\n",
       "      <th>...</th>\n",
       "      <td>...</td>\n",
       "      <td>...</td>\n",
       "      <td>...</td>\n",
       "      <td>...</td>\n",
       "      <td>...</td>\n",
       "      <td>...</td>\n",
       "      <td>...</td>\n",
       "      <td>...</td>\n",
       "      <td>...</td>\n",
       "      <td>...</td>\n",
       "    </tr>\n",
       "    <tr>\n",
       "      <th>610</th>\n",
       "      <td>Yondu (MCU)</td>\n",
       "      <td>Yondu</td>\n",
       "      <td></td>\n",
       "      <td>7</td>\n",
       "      <td>Yondu Udonta was a Centaurian, leader of a key...</td>\n",
       "      <td>Yondu Udonta was a member of the Centaurians, ...</td>\n",
       "      <td>Marvel Comics</td>\n",
       "      <td>yondu udonta centaurian leader key albeit ostr...</td>\n",
       "      <td>0.258</td>\n",
       "      <td>somewhat sad</td>\n",
       "    </tr>\n",
       "    <tr>\n",
       "      <th>611</th>\n",
       "      <td>Yondu</td>\n",
       "      <td>Yondu Udonta</td>\n",
       "      <td></td>\n",
       "      <td>5</td>\n",
       "      <td>Yondu is the leader of the Ravagers, a group o...</td>\n",
       "      <td></td>\n",
       "      <td>Marvel Comics</td>\n",
       "      <td>yondu leader ravagers group space pirate yondu...</td>\n",
       "      <td>0.073</td>\n",
       "      <td>a little sad</td>\n",
       "    </tr>\n",
       "    <tr>\n",
       "      <th>612</th>\n",
       "      <td>Yukio (FOX)</td>\n",
       "      <td>Yukio</td>\n",
       "      <td>Yukio</td>\n",
       "      <td>5</td>\n",
       "      <td>When she was 5 years old, Yukio predicted her...</td>\n",
       "      <td>Yukio is a mutant with a limited, precognitiv...</td>\n",
       "      <td>Marvel Comics</td>\n",
       "      <td>years old yukio predict parent death soon die ...</td>\n",
       "      <td>0.264</td>\n",
       "      <td>somewhat sad</td>\n",
       "    </tr>\n",
       "    <tr>\n",
       "      <th>613</th>\n",
       "      <td>Yukio</td>\n",
       "      <td>Yukio (full name unrevealed)</td>\n",
       "      <td>Yukio (full name unrevealed)</td>\n",
       "      <td>-</td>\n",
       "      <td>Little is known about the early life of the ad...</td>\n",
       "      <td>No known powers.</td>\n",
       "      <td>Marvel Comics</td>\n",
       "      <td>little know early life adventurous yukio save ...</td>\n",
       "      <td>0.168</td>\n",
       "      <td>somewhat sad</td>\n",
       "    </tr>\n",
       "    <tr>\n",
       "      <th>614</th>\n",
       "      <td>Zzzax</td>\n",
       "      <td></td>\n",
       "      <td></td>\n",
       "      <td>5</td>\n",
       "      <td>Zzzax was the product of an accident that occu...</td>\n",
       "      <td></td>\n",
       "      <td>Marvel Comics</td>\n",
       "      <td>zzzax product accident occur consolidate ediso...</td>\n",
       "      <td>0.142</td>\n",
       "      <td>somewhat sad</td>\n",
       "    </tr>\n",
       "  </tbody>\n",
       "</table>\n",
       "<p>615 rows × 10 columns</p>\n",
       "</div>"
      ],
      "text/plain": [
       "                    name                     real_name  \\\n",
       "0                3-D Man           Delroy Garrett, Jr.   \n",
       "1                 A-Bomb        Richard Milhouse Jones   \n",
       "2            Abomination                  Emil Blonsky   \n",
       "3                Abraxas                       Abraxas   \n",
       "4    Absorbing Man (MCU)                    Carl Creel   \n",
       "..                   ...                           ...   \n",
       "610          Yondu (MCU)                         Yondu   \n",
       "611                Yondu                  Yondu Udonta   \n",
       "612          Yukio (FOX)                         Yukio   \n",
       "613                Yukio  Yukio (full name unrevealed)   \n",
       "614                Zzzax                                 \n",
       "\n",
       "                        full_name overall_score  \\\n",
       "0             Delroy Garrett, Jr.             6   \n",
       "1          Richard Milhouse Jones            20   \n",
       "2                    Emil Blonsky            22   \n",
       "3                         Abraxas             ∞   \n",
       "4                      Carl Creel             8   \n",
       "..                            ...           ...   \n",
       "610                                           7   \n",
       "611                                           5   \n",
       "612                         Yukio             5   \n",
       "613  Yukio (full name unrevealed)             -   \n",
       "614                                           5   \n",
       "\n",
       "                                          history_text  \\\n",
       "0    Delroy Garrett, Jr. grew up to become a track ...   \n",
       "1     Richard \"Rick\" Jones was orphaned at a young ...   \n",
       "2    Formerly known as Emil Blonsky, a spy of Sovie...   \n",
       "3    Born within the abstract entity Eternity, Abra...   \n",
       "4    Carl \"Crusher\" Creel was an enhanced individua...   \n",
       "..                                                 ...   \n",
       "610  Yondu Udonta was a Centaurian, leader of a key...   \n",
       "611  Yondu is the leader of the Ravagers, a group o...   \n",
       "612   When she was 5 years old, Yukio predicted her...   \n",
       "613  Little is known about the early life of the ad...   \n",
       "614  Zzzax was the product of an accident that occu...   \n",
       "\n",
       "                                           powers_text        creator  \\\n",
       "0                                                       Marvel Comics   \n",
       "1      On rare occasions, and through unusual circu...  Marvel Comics   \n",
       "2    'Blonsky''s transformation into the Abominatio...  Marvel Comics   \n",
       "3    As antithesis to the cosmic entity Eternity, A...  Marvel Comics   \n",
       "4     Carl Creel was able to duplicate at will the ...  Marvel Comics   \n",
       "..                                                 ...            ...   \n",
       "610  Yondu Udonta was a member of the Centaurians, ...  Marvel Comics   \n",
       "611                                                     Marvel Comics   \n",
       "612   Yukio is a mutant with a limited, precognitiv...  Marvel Comics   \n",
       "613                                   No known powers.  Marvel Comics   \n",
       "614                                                     Marvel Comics   \n",
       "\n",
       "                                                 clean  sadness_level  \\\n",
       "0    delroy garrett jr grow become track star compe...          0.093   \n",
       "1    richard rick jones orphan young age expel seve...          0.176   \n",
       "2    formerly know emil blonsky spy soviet yugoslav...          0.256   \n",
       "3    bear within abstract entity eternity abraxas k...          0.142   \n",
       "4    carl crusher creel enhance individual ability ...          0.248   \n",
       "..                                                 ...            ...   \n",
       "610  yondu udonta centaurian leader key albeit ostr...          0.258   \n",
       "611  yondu leader ravagers group space pirate yondu...          0.073   \n",
       "612  years old yukio predict parent death soon die ...          0.264   \n",
       "613  little know early life adventurous yukio save ...          0.168   \n",
       "614  zzzax product accident occur consolidate ediso...          0.142   \n",
       "\n",
       "    Emotion_Class  \n",
       "0    a little sad  \n",
       "1    somewhat sad  \n",
       "2    somewhat sad  \n",
       "3    somewhat sad  \n",
       "4    somewhat sad  \n",
       "..            ...  \n",
       "610  somewhat sad  \n",
       "611  a little sad  \n",
       "612  somewhat sad  \n",
       "613  somewhat sad  \n",
       "614  somewhat sad  \n",
       "\n",
       "[615 rows x 10 columns]"
      ]
     },
     "execution_count": 19,
     "metadata": {},
     "output_type": "execute_result"
    }
   ],
   "source": [
    "data"
   ]
  },
  {
   "cell_type": "code",
   "execution_count": 20,
   "id": "1054953d",
   "metadata": {
    "execution": {
     "iopub.execute_input": "2023-07-26T13:52:56.972559Z",
     "iopub.status.busy": "2023-07-26T13:52:56.971431Z",
     "iopub.status.idle": "2023-07-26T13:52:57.058597Z",
     "shell.execute_reply": "2023-07-26T13:52:57.057454Z"
    },
    "papermill": {
     "duration": 0.10093,
     "end_time": "2023-07-26T13:52:57.061169",
     "exception": false,
     "start_time": "2023-07-26T13:52:56.960239",
     "status": "completed"
    },
    "tags": []
   },
   "outputs": [],
   "source": [
    "data.to_csv(\"emotiontestss.csv\", index=False)"
   ]
  },
  {
   "cell_type": "code",
   "execution_count": 21,
   "id": "23064a55",
   "metadata": {
    "execution": {
     "iopub.execute_input": "2023-07-26T13:52:57.083634Z",
     "iopub.status.busy": "2023-07-26T13:52:57.082646Z",
     "iopub.status.idle": "2023-07-26T13:52:57.330908Z",
     "shell.execute_reply": "2023-07-26T13:52:57.329901Z"
    },
    "papermill": {
     "duration": 0.261421,
     "end_time": "2023-07-26T13:52:57.332748",
     "exception": false,
     "start_time": "2023-07-26T13:52:57.071327",
     "status": "completed"
    },
    "tags": []
   },
   "outputs": [
    {
     "data": {
      "image/png": "[encoded data removed]",
      "text/plain": [
       "<Figure size 640x480 with 1 Axes>"
      ]
     },
     "metadata": {},
     "output_type": "display_data"
    }
   ],
   "source": [
    "import pandas as pd\n",
    "import matplotlib.pyplot as plt\n",
    "\n",
    "# Assuming you have already trained the model and obtained the predictions\n",
    "# and actual values as 'y_pred' and 'y_test' respectively.\n",
    "\n",
    "# Create a DataFrame to hold the predicted and actual values\n",
    "results = pd.DataFrame({'Actual Sadness Level': y_test, 'Predicted Sadness Level': y_pred})\n",
    "\n",
    "# Plotting the scatter plot\n",
    "plt.scatter(results.index, results['Actual Sadness Level'], label='Actual')\n",
    "plt.scatter(results.index, results['Predicted Sadness Level'], label='Predicted')\n",
    "\n",
    "plt.xlabel('Data Point')\n",
    "plt.ylabel('Sadness Level')\n",
    "plt.title('Predicted vs Actual Sadness Levels')\n",
    "plt.legend()\n",
    "\n",
    "plt.show()\n"
   ]
  },
  {
   "cell_type": "code",
   "execution_count": 22,
   "id": "342bd0f4",
   "metadata": {
    "execution": {
     "iopub.execute_input": "2023-07-26T13:52:57.355578Z",
     "iopub.status.busy": "2023-07-26T13:52:57.354568Z",
     "iopub.status.idle": "2023-07-26T13:52:57.366051Z",
     "shell.execute_reply": "2023-07-26T13:52:57.364380Z"
    },
    "papermill": {
     "duration": 0.026101,
     "end_time": "2023-07-26T13:52:57.369318",
     "exception": false,
     "start_time": "2023-07-26T13:52:57.343217",
     "status": "completed"
    },
    "tags": []
   },
   "outputs": [
    {
     "data": {
      "text/html": [
       "<div>\n",
       "<style scoped>\n",
       "    .dataframe tbody tr th:only-of-type {\n",
       "        vertical-align: middle;\n",
       "    }\n",
       "\n",
       "    .dataframe tbody tr th {\n",
       "        vertical-align: top;\n",
       "    }\n",
       "\n",
       "    .dataframe thead th {\n",
       "        text-align: right;\n",
       "    }\n",
       "</style>\n",
       "<table border=\"1\" class=\"dataframe\">\n",
       "  <thead>\n",
       "    <tr style=\"text-align: right;\">\n",
       "      <th></th>\n",
       "      <th>Emotion_Class</th>\n",
       "    </tr>\n",
       "    <tr>\n",
       "      <th>Emotion_Class</th>\n",
       "      <th></th>\n",
       "    </tr>\n",
       "  </thead>\n",
       "  <tbody>\n",
       "    <tr>\n",
       "      <th>a little sad</th>\n",
       "      <td>174</td>\n",
       "    </tr>\n",
       "    <tr>\n",
       "      <th>moderately sad</th>\n",
       "      <td>82</td>\n",
       "    </tr>\n",
       "    <tr>\n",
       "      <th>sad</th>\n",
       "      <td>5</td>\n",
       "    </tr>\n",
       "    <tr>\n",
       "      <th>somewhat sad</th>\n",
       "      <td>354</td>\n",
       "    </tr>\n",
       "  </tbody>\n",
       "</table>\n",
       "</div>"
      ],
      "text/plain": [
       "                Emotion_Class\n",
       "Emotion_Class                \n",
       "a little sad              174\n",
       "moderately sad             82\n",
       "sad                         5\n",
       "somewhat sad              354"
      ]
     },
     "execution_count": 22,
     "metadata": {},
     "output_type": "execute_result"
    }
   ],
   "source": [
    "groups = data.groupby('Emotion_Class').agg({'Emotion_Class':'count'})\n",
    "groups"
   ]
  },
  {
   "cell_type": "code",
   "execution_count": 23,
   "id": "c811fe29",
   "metadata": {
    "execution": {
     "iopub.execute_input": "2023-07-26T13:52:57.391938Z",
     "iopub.status.busy": "2023-07-26T13:52:57.391591Z",
     "iopub.status.idle": "2023-07-26T13:52:57.591148Z",
     "shell.execute_reply": "2023-07-26T13:52:57.589609Z"
    },
    "papermill": {
     "duration": 0.213434,
     "end_time": "2023-07-26T13:52:57.593583",
     "exception": false,
     "start_time": "2023-07-26T13:52:57.380149",
     "status": "completed"
    },
    "tags": []
   },
   "outputs": [
    {
     "data": {
      "image/png": "[encoded data removed]",
      "text/plain": [
       "<Figure size 640x480 with 1 Axes>"
      ]
     },
     "metadata": {},
     "output_type": "display_data"
    }
   ],
   "source": [
    "bars = plt.bar(range(4),groups.Emotion_Class,color=('b','r'))\n",
    "# Add labels and title\n",
    "plt.xlabel('Sadness Classes')\n",
    "plt.ylabel('Amount')\n",
    "plt.title('Emotion Bar Graph')\n",
    "\n",
    "plt.xticks([1,2,3,4, 5 ,6 ,7])\n",
    "plt.show()"
   ]
  },
  {
   "cell_type": "code",
   "execution_count": 24,
   "id": "7b74e0ec",
   "metadata": {
    "execution": {
     "iopub.execute_input": "2023-07-26T13:52:57.616137Z",
     "iopub.status.busy": "2023-07-26T13:52:57.615758Z",
     "iopub.status.idle": "2023-07-26T13:52:57.624788Z",
     "shell.execute_reply": "2023-07-26T13:52:57.623359Z"
    },
    "papermill": {
     "duration": 0.022837,
     "end_time": "2023-07-26T13:52:57.627281",
     "exception": false,
     "start_time": "2023-07-26T13:52:57.604444",
     "status": "completed"
    },
    "tags": []
   },
   "outputs": [],
   "source": [
    "data = data.fillna(value=0)\n",
    "column_to_check = 'sadness_level'\n",
    "data = data[data[column_to_check] != 0]"
   ]
  },
  {
   "cell_type": "code",
   "execution_count": 25,
   "id": "8ed6cecb",
   "metadata": {
    "execution": {
     "iopub.execute_input": "2023-07-26T13:52:57.650474Z",
     "iopub.status.busy": "2023-07-26T13:52:57.650123Z",
     "iopub.status.idle": "2023-07-26T13:52:57.663442Z",
     "shell.execute_reply": "2023-07-26T13:52:57.662276Z"
    },
    "papermill": {
     "duration": 0.02788,
     "end_time": "2023-07-26T13:52:57.666050",
     "exception": false,
     "start_time": "2023-07-26T13:52:57.638170",
     "status": "completed"
    },
    "tags": []
   },
   "outputs": [],
   "source": [
    "# Machine learning model building\n",
    "from sklearn.feature_extraction.text import CountVectorizer, TfidfVectorizer\n",
    "from sklearn.metrics import accuracy_score, classification_report\n",
    "from sklearn.model_selection import train_test_split\n",
    "from sklearn.naive_bayes import MultinomialNB\n",
    "from sklearn.linear_model import LogisticRegression\n",
    "from sklearn.model_selection import train_test_split\n",
    "from sklearn.metrics import accuracy_score"
   ]
  },
  {
   "cell_type": "code",
   "execution_count": 26,
   "id": "c2b05fe0",
   "metadata": {
    "execution": {
     "iopub.execute_input": "2023-07-26T13:52:57.689436Z",
     "iopub.status.busy": "2023-07-26T13:52:57.689110Z",
     "iopub.status.idle": "2023-07-26T13:53:06.575780Z",
     "shell.execute_reply": "2023-07-26T13:53:06.574203Z"
    },
    "papermill": {
     "duration": 8.901349,
     "end_time": "2023-07-26T13:53:06.578543",
     "exception": false,
     "start_time": "2023-07-26T13:52:57.677194",
     "status": "completed"
    },
    "tags": []
   },
   "outputs": [
    {
     "name": "stdout",
     "output_type": "stream",
     "text": [
      "Requirement already satisfied: scikit-learn in /opt/conda/lib/python3.10/site-packages (1.2.2)\r\n",
      "Requirement already satisfied: numpy>=1.17.3 in /opt/conda/lib/python3.10/site-packages (from scikit-learn) (1.23.5)\r\n",
      "Requirement already satisfied: scipy>=1.3.2 in /opt/conda/lib/python3.10/site-packages (from scikit-learn) (1.11.1)\r\n",
      "Requirement already satisfied: joblib>=1.1.1 in /opt/conda/lib/python3.10/site-packages (from scikit-learn) (1.2.0)\r\n",
      "Requirement already satisfied: threadpoolctl>=2.0.0 in /opt/conda/lib/python3.10/site-packages (from scikit-learn) (3.1.0)\r\n",
      "Note: you may need to restart the kernel to use updated packages.\n"
     ]
    }
   ],
   "source": [
    "pip install scikit-learn\n"
   ]
  },
  {
   "cell_type": "code",
   "execution_count": 27,
   "id": "3f25223d",
   "metadata": {
    "execution": {
     "iopub.execute_input": "2023-07-26T13:53:06.602516Z",
     "iopub.status.busy": "2023-07-26T13:53:06.602115Z",
     "iopub.status.idle": "2023-07-26T13:53:06.607404Z",
     "shell.execute_reply": "2023-07-26T13:53:06.606410Z"
    },
    "papermill": {
     "duration": 0.019721,
     "end_time": "2023-07-26T13:53:06.609303",
     "exception": false,
     "start_time": "2023-07-26T13:53:06.589582",
     "status": "completed"
    },
    "tags": []
   },
   "outputs": [],
   "source": [
    "# Build Features from text\n",
    "xFeatures = data[\"clean\"]\n",
    "ylabels = data[\"Emotion_Class\"]"
   ]
  },
  {
   "cell_type": "code",
   "execution_count": 28,
   "id": "eac2aa1d",
   "metadata": {
    "execution": {
     "iopub.execute_input": "2023-07-26T13:53:06.633898Z",
     "iopub.status.busy": "2023-07-26T13:53:06.633508Z",
     "iopub.status.idle": "2023-07-26T13:53:06.818261Z",
     "shell.execute_reply": "2023-07-26T13:53:06.817181Z"
    },
    "papermill": {
     "duration": 0.199938,
     "end_time": "2023-07-26T13:53:06.820425",
     "exception": false,
     "start_time": "2023-07-26T13:53:06.620487",
     "status": "completed"
    },
    "tags": []
   },
   "outputs": [],
   "source": [
    "cv = CountVectorizer()\n",
    "x = cv.fit_transform(xFeatures)"
   ]
  },
  {
   "cell_type": "code",
   "execution_count": 29,
   "id": "743bec55",
   "metadata": {
    "execution": {
     "iopub.execute_input": "2023-07-26T13:53:06.843171Z",
     "iopub.status.busy": "2023-07-26T13:53:06.842795Z",
     "iopub.status.idle": "2023-07-26T13:53:06.859660Z",
     "shell.execute_reply": "2023-07-26T13:53:06.858637Z"
    },
    "papermill": {
     "duration": 0.030385,
     "end_time": "2023-07-26T13:53:06.861458",
     "exception": false,
     "start_time": "2023-07-26T13:53:06.831073",
     "status": "completed"
    },
    "tags": []
   },
   "outputs": [
    {
     "data": {
      "text/plain": [
       "array(['aakon', 'aan', 'aaron', ..., 'zsaji', 'zuras', 'zzzax'],\n",
       "      dtype=object)"
      ]
     },
     "execution_count": 29,
     "metadata": {},
     "output_type": "execute_result"
    }
   ],
   "source": [
    "# Get feature names\n",
    "cv.get_feature_names_out()"
   ]
  },
  {
   "cell_type": "code",
   "execution_count": 30,
   "id": "e1e92010",
   "metadata": {
    "execution": {
     "iopub.execute_input": "2023-07-26T13:53:06.883873Z",
     "iopub.status.busy": "2023-07-26T13:53:06.883536Z",
     "iopub.status.idle": "2023-07-26T13:53:06.907438Z",
     "shell.execute_reply": "2023-07-26T13:53:06.905876Z"
    },
    "papermill": {
     "duration": 0.037483,
     "end_time": "2023-07-26T13:53:06.909761",
     "exception": false,
     "start_time": "2023-07-26T13:53:06.872278",
     "status": "completed"
    },
    "tags": []
   },
   "outputs": [
    {
     "data": {
      "text/plain": [
       "array([[ 0,  0,  0, ...,  0,  0,  0],\n",
       "       [ 0,  0,  0, ...,  0,  0,  0],\n",
       "       [ 0,  0,  0, ...,  0,  0,  0],\n",
       "       ...,\n",
       "       [ 0,  0,  0, ...,  0,  0,  0],\n",
       "       [ 0,  0,  0, ...,  0,  0,  0],\n",
       "       [ 0,  0,  0, ...,  0,  0, 39]])"
      ]
     },
     "execution_count": 30,
     "metadata": {},
     "output_type": "execute_result"
    }
   ],
   "source": [
    "x.toarray()"
   ]
  },
  {
   "cell_type": "code",
   "execution_count": 31,
   "id": "72f2feac",
   "metadata": {
    "execution": {
     "iopub.execute_input": "2023-07-26T13:53:06.934488Z",
     "iopub.status.busy": "2023-07-26T13:53:06.934147Z",
     "iopub.status.idle": "2023-07-26T13:53:15.803202Z",
     "shell.execute_reply": "2023-07-26T13:53:15.801289Z"
    },
    "papermill": {
     "duration": 8.884107,
     "end_time": "2023-07-26T13:53:15.805632",
     "exception": false,
     "start_time": "2023-07-26T13:53:06.921525",
     "status": "completed"
    },
    "tags": []
   },
   "outputs": [
    {
     "name": "stdout",
     "output_type": "stream",
     "text": [
      "Requirement already satisfied: imbalanced-learn in /opt/conda/lib/python3.10/site-packages (0.10.1)\r\n",
      "Requirement already satisfied: numpy>=1.17.3 in /opt/conda/lib/python3.10/site-packages (from imbalanced-learn) (1.23.5)\r\n",
      "Requirement already satisfied: scipy>=1.3.2 in /opt/conda/lib/python3.10/site-packages (from imbalanced-learn) (1.11.1)\r\n",
      "Requirement already satisfied: scikit-learn>=1.0.2 in /opt/conda/lib/python3.10/site-packages (from imbalanced-learn) (1.2.2)\r\n",
      "Requirement already satisfied: joblib>=1.1.1 in /opt/conda/lib/python3.10/site-packages (from imbalanced-learn) (1.2.0)\r\n",
      "Requirement already satisfied: threadpoolctl>=2.0.0 in /opt/conda/lib/python3.10/site-packages (from imbalanced-learn) (3.1.0)\r\n",
      "Note: you may need to restart the kernel to use updated packages.\n"
     ]
    }
   ],
   "source": [
    "pip install imbalanced-learn"
   ]
  },
  {
   "cell_type": "code",
   "execution_count": 32,
   "id": "fe4a04dd",
   "metadata": {
    "execution": {
     "iopub.execute_input": "2023-07-26T13:53:15.829593Z",
     "iopub.status.busy": "2023-07-26T13:53:15.829161Z",
     "iopub.status.idle": "2023-07-26T13:53:16.067021Z",
     "shell.execute_reply": "2023-07-26T13:53:16.066094Z"
    },
    "papermill": {
     "duration": 0.252198,
     "end_time": "2023-07-26T13:53:16.069225",
     "exception": false,
     "start_time": "2023-07-26T13:53:15.817027",
     "status": "completed"
    },
    "tags": []
   },
   "outputs": [
    {
     "name": "stdout",
     "output_type": "stream",
     "text": [
      "a little sad      354\n",
      "somewhat sad      354\n",
      "moderately sad    354\n",
      "sad               354\n",
      "dtype: int64\n"
     ]
    }
   ],
   "source": [
    "from imblearn.over_sampling import SMOTE\n",
    "class_features = np.array(data['Emotion_Class'])\n",
    "class_reshaped = np.ravel(class_features)\n",
    "\n",
    "n_neighbors = 4\n",
    "smote = SMOTE(sampling_strategy = 'auto', k_neighbors = n_neighbors)\n",
    "\n",
    "text_resampled, class_resampled = smote.fit_resample(x, class_reshaped)\n",
    "\n",
    "sorted_data = pd.Series(class_resampled).value_counts()\n",
    "print(pd.Series(class_resampled).value_counts())"
   ]
  },
  {
   "cell_type": "code",
   "execution_count": 33,
   "id": "10cea977",
   "metadata": {
    "execution": {
     "iopub.execute_input": "2023-07-26T13:53:16.095428Z",
     "iopub.status.busy": "2023-07-26T13:53:16.094729Z",
     "iopub.status.idle": "2023-07-26T13:53:16.102055Z",
     "shell.execute_reply": "2023-07-26T13:53:16.100750Z"
    },
    "papermill": {
     "duration": 0.022069,
     "end_time": "2023-07-26T13:53:16.104498",
     "exception": false,
     "start_time": "2023-07-26T13:53:16.082429",
     "status": "completed"
    },
    "tags": []
   },
   "outputs": [],
   "source": [
    "# Split the dataset\n",
    "x_train, x_test, y_train, y_test = train_test_split(text_resampled, class_resampled, test_size = 0.3, random_state = 42)"
   ]
  },
  {
   "cell_type": "code",
   "execution_count": 34,
   "id": "7547dd04",
   "metadata": {
    "execution": {
     "iopub.execute_input": "2023-07-26T13:53:16.129998Z",
     "iopub.status.busy": "2023-07-26T13:53:16.129621Z",
     "iopub.status.idle": "2023-07-26T13:53:17.507367Z",
     "shell.execute_reply": "2023-07-26T13:53:17.506677Z"
    },
    "papermill": {
     "duration": 1.393234,
     "end_time": "2023-07-26T13:53:17.509411",
     "exception": false,
     "start_time": "2023-07-26T13:53:16.116177",
     "status": "completed"
    },
    "tags": []
   },
   "outputs": [
    {
     "data": {
      "text/html": [
       "<style>#sk-container-id-1 {color: black;background-color: white;}#sk-container-id-1 pre{padding: 0;}#sk-container-id-1 div.sk-toggleable {background-color: white;}#sk-container-id-1 label.sk-toggleable__label {cursor: pointer;display: block;width: 100%;margin-bottom: 0;padding: 0.3em;box-sizing: border-box;text-align: center;}#sk-container-id-1 label.sk-toggleable__label-arrow:before {content: \"▸\";float: left;margin-right: 0.25em;color: #696969;}#sk-container-id-1 label.sk-toggleable__label-arrow:hover:before {color: black;}#sk-container-id-1 div.sk-estimator:hover label.sk-toggleable__label-arrow:before {color: black;}#sk-container-id-1 div.sk-toggleable__content {max-height: 0;max-width: 0;overflow: hidden;text-align: left;background-color: #f0f8ff;}#sk-container-id-1 div.sk-toggleable__content pre {margin: 0.2em;color: black;border-radius: 0.25em;background-color: #f0f8ff;}#sk-container-id-1 input.sk-toggleable__control:checked~div.sk-toggleable__content {max-height: 200px;max-width: 100%;overflow: auto;}#sk-container-id-1 input.sk-toggleable__control:checked~label.sk-toggleable__label-arrow:before {content: \"▾\";}#sk-container-id-1 div.sk-estimator input.sk-toggleable__control:checked~label.sk-toggleable__label {background-color: #d4ebff;}#sk-container-id-1 div.sk-label input.sk-toggleable__control:checked~label.sk-toggleable__label {background-color: #d4ebff;}#sk-container-id-1 input.sk-hidden--visually {border: 0;clip: rect(1px 1px 1px 1px);clip: rect(1px, 1px, 1px, 1px);height: 1px;margin: -1px;overflow: hidden;padding: 0;position: absolute;width: 1px;}#sk-container-id-1 div.sk-estimator {font-family: monospace;background-color: #f0f8ff;border: 1px dotted black;border-radius: 0.25em;box-sizing: border-box;margin-bottom: 0.5em;}#sk-container-id-1 div.sk-estimator:hover {background-color: #d4ebff;}#sk-container-id-1 div.sk-parallel-item::after {content: \"\";width: 100%;border-bottom: 1px solid gray;flex-grow: 1;}#sk-container-id-1 div.sk-label:hover label.sk-toggleable__label {background-color: #d4ebff;}#sk-container-id-1 div.sk-serial::before {content: \"\";position: absolute;border-left: 1px solid gray;box-sizing: border-box;top: 0;bottom: 0;left: 50%;z-index: 0;}#sk-container-id-1 div.sk-serial {display: flex;flex-direction: column;align-items: center;background-color: white;padding-right: 0.2em;padding-left: 0.2em;position: relative;}#sk-container-id-1 div.sk-item {position: relative;z-index: 1;}#sk-container-id-1 div.sk-parallel {display: flex;align-items: stretch;justify-content: center;background-color: white;position: relative;}#sk-container-id-1 div.sk-item::before, #sk-container-id-1 div.sk-parallel-item::before {content: \"\";position: absolute;border-left: 1px solid gray;box-sizing: border-box;top: 0;bottom: 0;left: 50%;z-index: -1;}#sk-container-id-1 div.sk-parallel-item {display: flex;flex-direction: column;z-index: 1;position: relative;background-color: white;}#sk-container-id-1 div.sk-parallel-item:first-child::after {align-self: flex-end;width: 50%;}#sk-container-id-1 div.sk-parallel-item:last-child::after {align-self: flex-start;width: 50%;}#sk-container-id-1 div.sk-parallel-item:only-child::after {width: 0;}#sk-container-id-1 div.sk-dashed-wrapped {border: 1px dashed gray;margin: 0 0.4em 0.5em 0.4em;box-sizing: border-box;padding-bottom: 0.4em;background-color: white;}#sk-container-id-1 div.sk-label label {font-family: monospace;font-weight: bold;display: inline-block;line-height: 1.2em;}#sk-container-id-1 div.sk-label-container {text-align: center;}#sk-container-id-1 div.sk-container {/* jupyter's `normalize.less` sets `[hidden] { display: none; }` but bootstrap.min.css set `[hidden] { display: none !important; }` so we also need the `!important` here to be able to override the default hidden behavior on the sphinx rendered scikit-learn.org. See: https://github.com/scikit-learn/scikit-learn/issues/21755 */display: inline-block !important;position: relative;}#sk-container-id-1 div.sk-text-repr-fallback {display: none;}</style><div id=\"sk-container-id-1\" class=\"sk-top-container\"><div class=\"sk-text-repr-fallback\"><pre>LogisticRegression()</pre><b>In a Jupyter environment, please rerun this cell to show the HTML representation or trust the notebook. <br />On GitHub, the HTML representation is unable to render, please try loading this page with nbviewer.org.</b></div><div class=\"sk-container\" hidden><div class=\"sk-item\"><div class=\"sk-estimator sk-toggleable\"><input class=\"sk-toggleable__control sk-hidden--visually\" id=\"sk-estimator-id-1\" type=\"checkbox\" checked><label for=\"sk-estimator-id-1\" class=\"sk-toggleable__label sk-toggleable__label-arrow\">LogisticRegression</label><div class=\"sk-toggleable__content\"><pre>LogisticRegression()</pre></div></div></div></div></div>"
      ],
      "text/plain": [
       "LogisticRegression()"
      ]
     },
     "execution_count": 34,
     "metadata": {},
     "output_type": "execute_result"
    }
   ],
   "source": [
    "\n",
    "Lr_model = LogisticRegression()\n",
    "Lr_model.fit(x_train,y_train)"
   ]
  },
  {
   "cell_type": "code",
   "execution_count": 35,
   "id": "c122991f",
   "metadata": {
    "execution": {
     "iopub.execute_input": "2023-07-26T13:53:17.564972Z",
     "iopub.status.busy": "2023-07-26T13:53:17.564590Z",
     "iopub.status.idle": "2023-07-26T13:53:17.572215Z",
     "shell.execute_reply": "2023-07-26T13:53:17.571537Z"
    },
    "papermill": {
     "duration": 0.035333,
     "end_time": "2023-07-26T13:53:17.576664",
     "exception": false,
     "start_time": "2023-07-26T13:53:17.541331",
     "status": "completed"
    },
    "tags": []
   },
   "outputs": [
    {
     "data": {
      "text/plain": [
       "0.8682352941176471"
      ]
     },
     "execution_count": 35,
     "metadata": {},
     "output_type": "execute_result"
    }
   ],
   "source": [
    "Lr_model.score(x_test, y_test)"
   ]
  }
 ],
 "metadata": {
  "kernelspec": {
   "display_name": "Python 3",
   "language": "python",
   "name": "python3"
  },
  "language_info": {
   "codemirror_mode": {
    "name": "ipython",
    "version": 3
   },
   "file_extension": ".py",
   "mimetype": "text/x-python",
   "name": "python",
   "nbconvert_exporter": "python",
   "pygments_lexer": "ipython3",
   "version": "3.10.12"
  },
  "papermill": {
   "default_parameters": {},
   "duration": 94.095974,
   "end_time": "2023-07-26T13:53:18.616429",
   "environment_variables": {},
   "exception": null,
   "input_path": "__notebook__.ipynb",
   "output_path": "__notebook__.ipynb",
   "parameters": {},
   "start_time": "2023-07-26T13:51:44.520455",
   "version": "2.4.0"
  }
 },
 "nbformat": 4,
 "nbformat_minor": 5
}
